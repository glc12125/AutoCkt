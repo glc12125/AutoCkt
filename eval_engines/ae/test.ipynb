{
 "cells": [
  {
   "cell_type": "code",
   "execution_count": 1,
   "id": "adc166ac-9096-48a6-9cd8-29d592a394ca",
   "metadata": {},
   "outputs": [],
   "source": [
    "import os\n",
    "import glob"
   ]
  },
  {
   "cell_type": "code",
   "execution_count": 2,
   "id": "3b7dbd61-6a18-441e-8ecc-3d6bc26bd108",
   "metadata": {},
   "outputs": [],
   "source": [
    "def translate_result(output_path):\n",
    "    result = None\n",
    "\n",
    "\n",
    "    print(result)\n",
    "    return result"
   ]
  },
  {
   "cell_type": "code",
   "execution_count": 3,
   "id": "e2c82e8f-fdb2-4a70-ae1a-a018b1aaded4",
   "metadata": {},
   "outputs": [],
   "source": [
    "subfolders = [ f.path for f in os.scandir(\"data\") if f.is_dir() ]"
   ]
  },
  {
   "cell_type": "code",
   "execution_count": 4,
   "id": "e503bab5-9747-45bf-97ab-f8f1d67134ae",
   "metadata": {},
   "outputs": [
    {
     "name": "stdout",
     "output_type": "stream",
     "text": [
      "['data/simple_modified_2024_03_01_sim_dir', 'data/steeringwheel', 'data/simple_10000_load_sim_dir', 'data/simpleexample', 'data/simple_sim_dir']\n"
     ]
    }
   ],
   "source": [
    "print(subfolders)"
   ]
  },
  {
   "cell_type": "code",
   "execution_count": 5,
   "id": "5bdfe4de-800f-491e-bfef-90ea138683ce",
   "metadata": {},
   "outputs": [
    {
     "name": "stdout",
     "output_type": "stream",
     "text": [
      "['data/simple_modified_2024_03_01_sim_dir/sim_dir/ECU1-SoC1-CortexA53']\n",
      "['data/steeringwheel/sim_dir/ECU1-SoC1-CortexA53', 'data/steeringwheel/sim_dir/ECU1-SoC1-CortexA72']\n",
      "['data/simple_10000_load_sim_dir/sim_dir/ECU1-SoC1-CortexA53']\n",
      "['data/simpleexample/sim_dir/ECU1-SoC1-CortexA53', 'data/simpleexample/sim_dir/ECU1-SoC1-CortexA72']\n",
      "['data/simple_sim_dir/sim_dir/ECU1-SoC1-CortexA53']\n"
     ]
    }
   ],
   "source": [
    "for proj in subfolders:\n",
    "    #print(proj)\n",
    "    sim_dir = os.path.join(proj, \"sim_dir\")\n",
    "    cpu_clusters = [ f.path for f in os.scandir(sim_dir) if f.is_dir() ]\n",
    "    print(cpu_clusters)\n",
    "    "
   ]
  },
  {
   "cell_type": "code",
   "execution_count": 6,
   "id": "57598588-d912-4962-9498-4976f2f779fa",
   "metadata": {},
   "outputs": [
    {
     "name": "stdout",
     "output_type": "stream",
     "text": [
      "['data/simple_10000_load_sim_dir/sim_dir/ECU1-SoC1-CortexA53']\n"
     ]
    }
   ],
   "source": [
    "#cpu_clusters = [ f.path for f in os.scandir(\"data/simple_sim_dir/sim_dir\") if f.is_dir() ]\n",
    "#cpu_clusters = [ f.path for f in os.scandir(\"data/simple_modified_2024_03_01_sim_dir/sim_dir\") if f.is_dir() ]\n",
    "cpu_clusters = [ f.path for f in os.scandir(\"data/simple_10000_load_sim_dir/sim_dir\") if f.is_dir() ]\n",
    "print(cpu_clusters)"
   ]
  },
  {
   "cell_type": "code",
   "execution_count": null,
   "id": "1a947549-7af7-4b9f-8c90-6bff83fe9980",
   "metadata": {},
   "outputs": [],
   "source": []
  },
  {
   "cell_type": "code",
   "execution_count": 7,
   "id": "762f1397-28a3-4a0d-8767-b6f35cf1b9dc",
   "metadata": {},
   "outputs": [
    {
     "name": "stdout",
     "output_type": "stream",
     "text": [
      "data/simple_10000_load_sim_dir/sim_dir/ECU1-SoC1-CortexA53/system_analyzer\n",
      "['data/simple_10000_load_sim_dir/sim_dir/ECU1-SoC1-CortexA53/system_analyzer/ECU1_SoC1_bare-metal-top.Cluster0.ARMV8_Cluster.CPU.PV.cpu1.core', 'data/simple_10000_load_sim_dir/sim_dir/ECU1-SoC1-CortexA53/system_analyzer/ECU1_SoC1_bare-metal-top.Cluster0.ARMV8_Cluster.CPU.PV.cpu0.core']\n",
      "data/simple_10000_load_sim_dir/sim_dir/ECU1-SoC1-CortexA53/system_analyzer/ECU1_SoC1_bare-metal-top.Cluster0.ARMV8_Cluster.CPU.PV.cpu0.core/function_activity0.csv\n",
      "algo1\n",
      "0 and prev gap: 112616325. Stamp2 112616325, Stamnp1 0\n",
      "1 and prev gap: 454249. Stamp2 113070574, Stamnp1 112616325\n",
      "2 and prev gap: 76722907. Stamp2 189793481, Stamnp1 113070574\n",
      "3 and prev gap: 156144. Stamp2 189949625, Stamnp1 189793481\n",
      "4 and prev gap: 73852762. Stamp2 263802387, Stamnp1 189949625\n",
      "5 and prev gap: 158329. Stamp2 263960716, Stamnp1 263802387\n",
      "6 and prev gap: 73832765. Stamp2 337793481, Stamnp1 263960716\n",
      "7 and prev gap: 156144. Stamp2 337949625, Stamnp1 337793481\n",
      "8 and prev gap: 74045608. Stamp2 411995233, Stamnp1 337949625\n",
      "9 and prev gap: 156143. Stamp2 412151376, Stamnp1 411995233\n",
      "10 and prev gap: 73642105. Stamp2 485793481, Stamnp1 412151376\n",
      "11 and prev gap: 156144. Stamp2 485949625, Stamnp1 485793481\n",
      "12 and prev gap: 73843856. Stamp2 559793481, Stamnp1 485949625\n",
      "13 and prev gap: 156144. Stamp2 559949625, Stamnp1 559793481\n",
      "14 and prev gap: 73943270. Stamp2 633892895, Stamnp1 559949625\n",
      "15 and prev gap: 161876. Stamp2 634054771, Stamnp1 633892895\n",
      "algo5\n",
      "0 and prev gap: 114855798\n",
      "1 and prev gap: 1113236\n",
      "2 and prev gap: 126019829\n",
      "3 and prev gap: 156143\n",
      "4 and prev gap: 123741519\n",
      "5 and prev gap: 156144\n",
      "6 and prev gap: 123882460\n",
      "7 and prev gap: 301176\n",
      "8 and prev gap: 123660220\n",
      "9 and prev gap: 156144\n",
      "data/simple_10000_load_sim_dir/sim_dir/ECU1-SoC1-CortexA53/system_analyzer/ECU1_SoC1_bare-metal-top.Cluster0.ARMV8_Cluster.CPU.PV.cpu0.core/function_activity_gantt0.csv\n",
      "busy_time: 107429351, idle_time: 579437691, system_time: 13132958\n",
      "idle percentage: 82.776813, task busy percentage: 15.347050142857144, system percentage: 1.8761368571428572\n"
     ]
    }
   ],
   "source": [
    "from bigtree import Node\n",
    "from bigtree.utils.exceptions import TreeError\n",
    "from collections import deque\n",
    "\n",
    "root = Node(\"0\", event_time=\"\")\n",
    "event_to_node = {}\n",
    "event_to_node[\"\"] = root\n",
    "fn_to_node = {}\n",
    "fn_to_node[\"0\"] = root\n",
    "\n",
    "FUNCTION_ENTRY_VALUE = \"ust.function.entry\"\n",
    "FUNCTION_EXIT_VALUE = \"ust.function.exit\"\n",
    "\n",
    "def add_function_graph(event_time, function_type, this_fn, call_site):\n",
    "    print(\"calling add_function_graph event_time: {}, function_type: {}, this_fn: {}, call_site: {}\".format(event_time, function_type, this_fn, call_site))\n",
    "    if function_type == FUNCTION_ENTRY_VALUE:\n",
    "        try:\n",
    "            new_node = Node(this_fn, event_time=event_time, parent=fn_to_node[call_site])\n",
    "            event_to_node[event_time] = new_node\n",
    "            fn_to_node[this_fn] = new_node\n",
    "            print(new_node)\n",
    "        except TreeError as te:\n",
    "            print(te)\n",
    "    elif function_type == FUNCTION_EXIT_VALUE:\n",
    "        print(\"{} exited\".format(this_fn))\n",
    "\n",
    "running_functions = deque()\n",
    "init_time = 0\n",
    "busy_time = 0\n",
    "simulation_time = 700000000\n",
    "idle_time = 700000000\n",
    "busy_start_time = 0\n",
    "last_exit_time = 0\n",
    "\n",
    "def process_function_event(event_time, function_type, this_fn, call_site):\n",
    "    global init_time\n",
    "    global running_functions\n",
    "    global busy_time\n",
    "    global busy_start_time\n",
    "    global last_exit_time\n",
    "    #print(\"calling process_function_event event_time: {}, function_type: {}, this_fn: {}, call_site: {}\".format(event_time, function_type, this_fn, call_site))\n",
    "    if function_type == FUNCTION_ENTRY_VALUE:\n",
    "        if init_time == 0:\n",
    "            init_time = int(event_time)\n",
    "        if len(running_functions) == 0:\n",
    "            busy_start_time = int(event_time)\n",
    "        running_functions.append(int(event_time))\n",
    "    elif function_type == FUNCTION_EXIT_VALUE:\n",
    "        running_functions.pop()\n",
    "        if len(running_functions) == 0:\n",
    "            busy_time += int(event_time) - busy_start_time\n",
    "        last_exit_time = int(event_time)\n",
    "\n",
    "\n",
    "def parse_function_events_per_core(core_path):\n",
    "    # parse function_activity_gantt0.csv\n",
    "    #files = [f for f in os.scandir(core_path) if os.path.isfile(f)]\n",
    "    #print(files)\n",
    "    gantt_file = glob.glob(core_path + \"/function_activity_gantt0.csv\")[0]\n",
    "    print(gantt_file)\n",
    "    with open(gantt_file, \"r\") as file:\n",
    "        while line := file.readline():\n",
    "            line = line.rstrip()\n",
    "            fields = line.split(';')\n",
    "            is_event_line = fields[0].isnumeric()\n",
    "            if not is_event_line:\n",
    "                continue\n",
    "            if len(fields) < 8:\n",
    "                continue\n",
    "            event_time = fields[0]\n",
    "            function_type = fields[1]\n",
    "            this_fn = fields[4].split('=')[-1]\n",
    "            call_site = fields[5].split('=')[-1]\n",
    "            add_function_graph(event_time, function_type, this_fn, call_site)\n",
    "    #root.hshow()\n",
    "\n",
    "def parse_function_activity_per_core(core_path):\n",
    "    activity_file = glob.glob(core_path + \"/function_activity0.csv\")[0]\n",
    "    print(activity_file)\n",
    "    time_stamps_algo1 = []\n",
    "    time_stamps_algo5 = []\n",
    "    with open(activity_file, \"r\") as file:\n",
    "        while line := file.readline():\n",
    "            line = line.rstrip()\n",
    "            fields = line.split(';')\n",
    "            is_event_line = fields[0].isnumeric()\n",
    "            if not is_event_line:\n",
    "                continue\n",
    "            if len(fields) < 7:\n",
    "                continue\n",
    "            event_time = fields[0]\n",
    "            function_type = fields[1]\n",
    "            if \"Rte_IWrite_SWC1_R1_Algo1_swc1PP1_R1Data\" in function_type:\n",
    "                #print(\"R1_Algo1: {}\".format(event_time))\n",
    "                time_stamps_algo1.append(int(event_time))\n",
    "            if \"Rte_IWrite_SWC2_R5_Algo5_SWC2PP1_R5Data\" in function_type:\n",
    "                #print(\"R5_Algo5: {}\".format(event_time))\n",
    "                time_stamps_algo5.append(int(event_time))\n",
    "    prev_time = 0\n",
    "    print(\"algo1\")\n",
    "    for idx, time in enumerate(time_stamps_algo1):\n",
    "        print(\"{} and prev gap: {}. Stamp2 {}, Stamnp1 {}\".format(idx, time - prev_time, time, prev_time))\n",
    "        prev_time = time\n",
    "    prev_time = 0\n",
    "    print(\"algo5\")\n",
    "    for idx, time in enumerate(time_stamps_algo5):\n",
    "        print(\"{} and prev gap: {}\".format(idx, time - prev_time))\n",
    "        prev_time = time\n",
    "\n",
    "def parse_idle_per_core(core_path):\n",
    "    global busy_time\n",
    "    global idle_time\n",
    "    global last_exit_time\n",
    "    global init_time\n",
    "    gantt_file = glob.glob(core_path + \"/function_activity_gantt0.csv\")[0]\n",
    "    print(gantt_file)\n",
    "    \n",
    "    with open(gantt_file, \"r\") as file:\n",
    "        while line := file.readline():\n",
    "            line = line.rstrip()\n",
    "            fields = line.split(';')\n",
    "            is_event_line = fields[0].isnumeric()\n",
    "            if not is_event_line:\n",
    "                continue\n",
    "            if len(fields) < 8:\n",
    "                continue\n",
    "            event_time = fields[0]\n",
    "            function_type = fields[1]\n",
    "            this_fn = fields[4].split('=')[-1]\n",
    "            call_site = fields[5].split('=')[-1]\n",
    "            process_function_event(event_time, function_type, this_fn, call_site)\n",
    "    idle_time -= busy_time\n",
    "    system_time = init_time + simulation_time - last_exit_time\n",
    "    idle_time -= system_time\n",
    "    print(\"busy_time: {}, idle_time: {}, system_time: {}\".format(busy_time, idle_time, system_time))\n",
    "    print(\"idle percentage: {}, task busy percentage: {}, system percentage: {}\".format(idle_time/simulation_time * 100, busy_time/simulation_time * 100, system_time/simulation_time * 100))\n",
    "\n",
    "for cpu_cluster in cpu_clusters:\n",
    "    cores_dir = os.path.join(cpu_cluster, \"system_analyzer\")\n",
    "    print(cores_dir)\n",
    "    core_folders = [ f.path for f in os.scandir(cores_dir) if f.is_dir() ]\n",
    "    print(core_folders)\n",
    "    # for each cpu core, get the function activities\n",
    "    #for core_path in core_folders:\n",
    "    #    parse_function_events_per_core(core_path)\n",
    "    #parse_function_events_per_core(core_folders[0])\n",
    "    parse_function_activity_per_core(core_folders[1])\n",
    "    parse_idle_per_core(core_folders[1])"
   ]
  },
  {
   "cell_type": "code",
   "execution_count": null,
   "id": "e3ce2137-972f-40e0-998e-0d3c3d9de640",
   "metadata": {},
   "outputs": [],
   "source": []
  },
  {
   "cell_type": "code",
   "execution_count": null,
   "id": "c49d4e81-788e-44aa-b549-0ee2a5c041c0",
   "metadata": {},
   "outputs": [],
   "source": []
  }
 ],
 "metadata": {
  "kernelspec": {
   "display_name": "Python 3 (ipykernel)",
   "language": "python",
   "name": "python3"
  },
  "language_info": {
   "codemirror_mode": {
    "name": "ipython",
    "version": 3
   },
   "file_extension": ".py",
   "mimetype": "text/x-python",
   "name": "python",
   "nbconvert_exporter": "python",
   "pygments_lexer": "ipython3",
   "version": "3.9.18"
  }
 },
 "nbformat": 4,
 "nbformat_minor": 5
}
