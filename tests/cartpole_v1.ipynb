{
 "cells": [
  {
   "cell_type": "code",
   "execution_count": 1,
   "id": "78d593fa-f732-4443-8bea-60483a64ee9e",
   "metadata": {},
   "outputs": [],
   "source": [
    "from ray.rllib.algorithms.ppo import PPOConfig\n",
    "from ray import air\n",
    "from ray import tune\n",
    "import ray\n",
    "from pathlib import Path"
   ]
  },
  {
   "cell_type": "code",
   "execution_count": 2,
   "id": "c30edf96-a34d-44c5-98f5-a928c9fca333",
   "metadata": {},
   "outputs": [
    {
     "name": "stderr",
     "output_type": "stream",
     "text": [
      "2024-02-13 04:33:47,126\tINFO worker.py:1724 -- Started a local Ray instance.\n"
     ]
    }
   ],
   "source": [
    "ray.init()\n",
    "config = PPOConfig()"
   ]
  },
  {
   "cell_type": "code",
   "execution_count": 3,
   "id": "95555b87-605c-45c0-a929-1d6a56d7602c",
   "metadata": {},
   "outputs": [
    {
     "data": {
      "text/plain": [
       "<ray.rllib.algorithms.ppo.ppo.PPOConfig at 0x7fb8183f8cd0>"
      ]
     },
     "execution_count": 3,
     "metadata": {},
     "output_type": "execute_result"
    }
   ],
   "source": [
    "config"
   ]
  },
  {
   "cell_type": "code",
   "execution_count": 4,
   "id": "8fb38952-7995-4d90-a983-fc92e3c09eaf",
   "metadata": {},
   "outputs": [],
   "source": [
    "# Update the model object.\n",
    "config.model[\"fcnet_hiddens\"]=[64, 64]"
   ]
  },
  {
   "cell_type": "code",
   "execution_count": 5,
   "id": "8c636898-893a-400e-bd70-a63e2a06b8db",
   "metadata": {},
   "outputs": [
    {
     "name": "stdout",
     "output_type": "stream",
     "text": [
      "updated config: <ray.rllib.algorithms.ppo.ppo.PPOConfig object at 0x7fb8183f8cd0>\n"
     ]
    }
   ],
   "source": [
    "\n",
    "config.resources(num_gpus=1)\n",
    "\n",
    "config.evaluation(\n",
    "    evaluation_interval=2,\n",
    "    evaluation_duration_unit=\"episodes\",\n",
    "    evaluation_duration=20)\n",
    "\n",
    "# Set the config object's env.\n",
    "config = config.environment(env=\"CartPole-v1\")\n",
    "\n",
    "\n",
    "print(\"updated config: {}\".format(config))\n",
    "\n",
    "stop_criteria = {\n",
    "    \"episode_reward_mean\": 500\n",
    "}\n",
    "\n",
    "checkpoint_config = ray.train.CheckpointConfig(\n",
    "    num_to_keep=5, \n",
    "    checkpoint_score_order=\"max\", \n",
    "    checkpoint_score_attribute=\"episode_reward_mean\",\n",
    "    checkpoint_frequency=10\n",
    ")\n",
    "\n",
    "sotarage_path_full = Path(\"./results\").resolve()"
   ]
  },
  {
   "cell_type": "code",
   "execution_count": 6,
   "id": "f30bbe98-079a-4fb0-beb8-45a365c3da22",
   "metadata": {},
   "outputs": [],
   "source": [
    "# Use to_dict() to get the old-style python config dict\n",
    "# when running with tune.\n",
    "tuner = tune.Tuner(\n",
    "    \"PPO\",\n",
    "    run_config=air.RunConfig(\n",
    "        name=\"PPO_CartPole-v1\",\n",
    "        storage_path=sotarage_path_full,\n",
    "        stop=stop_criteria,\n",
    "        checkpoint_config=checkpoint_config),\n",
    "    param_space=config.to_dict(),\n",
    ")"
   ]
  },
  {
   "cell_type": "code",
   "execution_count": null,
   "id": "b8c14289-c0e4-4808-b32c-2fe0fda06385",
   "metadata": {},
   "outputs": [
    {
     "data": {
      "text/html": [
       "<div class=\"tuneStatus\">\n",
       "  <div style=\"display: flex;flex-direction: row\">\n",
       "    <div style=\"display: flex;flex-direction: column;\">\n",
       "      <h3>Tune Status</h3>\n",
       "      <table>\n",
       "<tbody>\n",
       "<tr><td>Current time:</td><td>2024-02-13 04:47:11</td></tr>\n",
       "<tr><td>Running for: </td><td>00:11:35.72        </td></tr>\n",
       "<tr><td>Memory:      </td><td>17.1/31.1 GiB      </td></tr>\n",
       "</tbody>\n",
       "</table>\n",
       "    </div>\n",
       "    <div class=\"vDivider\"></div>\n",
       "    <div class=\"systemInfo\">\n",
       "      <h3>System Info</h3>\n",
       "      Using FIFO scheduling algorithm.<br>Logical resource usage: 3.0/20 CPUs, 1.0/1 GPUs (0.0/1.0 accelerator_type:G)\n",
       "    </div>\n",
       "    \n",
       "  </div>\n",
       "  <div class=\"hDivider\"></div>\n",
       "  <div class=\"trialStatus\">\n",
       "    <h3>Trial Status</h3>\n",
       "    <table>\n",
       "<thead>\n",
       "<tr><th>Trial name                 </th><th>status  </th><th>loc                 </th><th style=\"text-align: right;\">  iter</th><th style=\"text-align: right;\">  total time (s)</th><th style=\"text-align: right;\">    ts</th><th style=\"text-align: right;\">  reward</th><th style=\"text-align: right;\">  episode_reward_max</th><th style=\"text-align: right;\">  episode_reward_min</th><th style=\"text-align: right;\">  episode_len_mean</th></tr>\n",
       "</thead>\n",
       "<tbody>\n",
       "<tr><td>PPO_CartPole-v1_546b0_00000</td><td>RUNNING </td><td>192.168.50.151:35286</td><td style=\"text-align: right;\">    87</td><td style=\"text-align: right;\">         684.251</td><td style=\"text-align: right;\">348000</td><td style=\"text-align: right;\">  494.09</td><td style=\"text-align: right;\">                 500</td><td style=\"text-align: right;\">                 255</td><td style=\"text-align: right;\">            494.09</td></tr>\n",
       "</tbody>\n",
       "</table>\n",
       "  </div>\n",
       "</div>\n",
       "<style>\n",
       ".tuneStatus {\n",
       "  color: var(--jp-ui-font-color1);\n",
       "}\n",
       ".tuneStatus .systemInfo {\n",
       "  display: flex;\n",
       "  flex-direction: column;\n",
       "}\n",
       ".tuneStatus td {\n",
       "  white-space: nowrap;\n",
       "}\n",
       ".tuneStatus .trialStatus {\n",
       "  display: flex;\n",
       "  flex-direction: column;\n",
       "}\n",
       ".tuneStatus h3 {\n",
       "  font-weight: bold;\n",
       "}\n",
       ".tuneStatus .hDivider {\n",
       "  border-bottom-width: var(--jp-border-width);\n",
       "  border-bottom-color: var(--jp-border-color0);\n",
       "  border-bottom-style: solid;\n",
       "}\n",
       ".tuneStatus .vDivider {\n",
       "  border-left-width: var(--jp-border-width);\n",
       "  border-left-color: var(--jp-border-color0);\n",
       "  border-left-style: solid;\n",
       "  margin: 0.5em 1em 0.5em 1em;\n",
       "}\n",
       "</style>\n"
      ],
      "text/plain": [
       "<IPython.core.display.HTML object>"
      ]
     },
     "metadata": {},
     "output_type": "display_data"
    },
    {
     "name": "stderr",
     "output_type": "stream",
     "text": [
      "\u001b[36m(PPO pid=35286)\u001b[0m 2024-02-13 04:35:41,140\tWARNING deprecation.py:50 -- DeprecationWarning: `ray.rllib.execution.train_ops.multi_gpu_train_one_step` has been deprecated. This will raise an error in the future!\n",
      "\u001b[36m(PPO pid=35286)\u001b[0m Checkpoint successfully created at: Checkpoint(filesystem=local, path=/root/media/XAVIER2T/development/SM/AE_automation/RL/AutoCkt_related/AutoCkt/tests/results/PPO_CartPole-v1/PPO_CartPole-v1_546b0_00000_0_2024-02-13_04-35-35/checkpoint_000000)\n",
      "\u001b[36m(PPO pid=35286)\u001b[0m Checkpoint successfully created at: Checkpoint(filesystem=local, path=/root/media/XAVIER2T/development/SM/AE_automation/RL/AutoCkt_related/AutoCkt/tests/results/PPO_CartPole-v1/PPO_CartPole-v1_546b0_00000_0_2024-02-13_04-35-35/checkpoint_000001)\n",
      "\u001b[36m(PPO pid=35286)\u001b[0m Checkpoint successfully created at: Checkpoint(filesystem=local, path=/root/media/XAVIER2T/development/SM/AE_automation/RL/AutoCkt_related/AutoCkt/tests/results/PPO_CartPole-v1/PPO_CartPole-v1_546b0_00000_0_2024-02-13_04-35-35/checkpoint_000002)\n",
      "\u001b[36m(PPO pid=35286)\u001b[0m Checkpoint successfully created at: Checkpoint(filesystem=local, path=/root/media/XAVIER2T/development/SM/AE_automation/RL/AutoCkt_related/AutoCkt/tests/results/PPO_CartPole-v1/PPO_CartPole-v1_546b0_00000_0_2024-02-13_04-35-35/checkpoint_000003)\n",
      "\u001b[36m(PPO pid=35286)\u001b[0m Checkpoint successfully created at: Checkpoint(filesystem=local, path=/root/media/XAVIER2T/development/SM/AE_automation/RL/AutoCkt_related/AutoCkt/tests/results/PPO_CartPole-v1/PPO_CartPole-v1_546b0_00000_0_2024-02-13_04-35-35/checkpoint_000004)\n",
      "\u001b[36m(PPO pid=35286)\u001b[0m Checkpoint successfully created at: Checkpoint(filesystem=local, path=/root/media/XAVIER2T/development/SM/AE_automation/RL/AutoCkt_related/AutoCkt/tests/results/PPO_CartPole-v1/PPO_CartPole-v1_546b0_00000_0_2024-02-13_04-35-35/checkpoint_000005)\n",
      "\u001b[36m(PPO pid=35286)\u001b[0m Checkpoint successfully created at: Checkpoint(filesystem=local, path=/root/media/XAVIER2T/development/SM/AE_automation/RL/AutoCkt_related/AutoCkt/tests/results/PPO_CartPole-v1/PPO_CartPole-v1_546b0_00000_0_2024-02-13_04-35-35/checkpoint_000006)\n",
      "\u001b[36m(PPO pid=35286)\u001b[0m Checkpoint successfully created at: Checkpoint(filesystem=local, path=/root/media/XAVIER2T/development/SM/AE_automation/RL/AutoCkt_related/AutoCkt/tests/results/PPO_CartPole-v1/PPO_CartPole-v1_546b0_00000_0_2024-02-13_04-35-35/checkpoint_000007)\n"
     ]
    }
   ],
   "source": [
    "tuner.fit()"
   ]
  },
  {
   "cell_type": "code",
   "execution_count": null,
   "id": "ef3a87ac-f1b5-40e0-822e-fec6022bf3c5",
   "metadata": {},
   "outputs": [],
   "source": []
  }
 ],
 "metadata": {
  "kernelspec": {
   "display_name": "Python 3 (ipykernel)",
   "language": "python",
   "name": "python3"
  },
  "language_info": {
   "codemirror_mode": {
    "name": "ipython",
    "version": 3
   },
   "file_extension": ".py",
   "mimetype": "text/x-python",
   "name": "python",
   "nbconvert_exporter": "python",
   "pygments_lexer": "ipython3",
   "version": "3.9.18"
  }
 },
 "nbformat": 4,
 "nbformat_minor": 5
}
